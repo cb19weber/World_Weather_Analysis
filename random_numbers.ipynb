{
 "cells": [
  {
   "cell_type": "code",
   "execution_count": 1,
   "id": "4177c3de",
   "metadata": {},
   "outputs": [],
   "source": [
    "# Import the random module\n",
    "import random"
   ]
  },
  {
   "cell_type": "code",
   "execution_count": 2,
   "id": "fbdbf207",
   "metadata": {},
   "outputs": [
    {
     "data": {
      "text/plain": [
       "0.45232309922051916"
      ]
     },
     "execution_count": 2,
     "metadata": {},
     "output_type": "execute_result"
    }
   ],
   "source": [
    "random.random()"
   ]
  },
  {
   "cell_type": "code",
   "execution_count": 3,
   "id": "49407b7c",
   "metadata": {},
   "outputs": [
    {
     "data": {
      "text/plain": [
       "77"
      ]
     },
     "execution_count": 3,
     "metadata": {},
     "output_type": "execute_result"
    }
   ],
   "source": [
    "random.randint(-90,90)"
   ]
  },
  {
   "cell_type": "code",
   "execution_count": 4,
   "id": "1b094a47",
   "metadata": {},
   "outputs": [
    {
     "data": {
      "text/plain": [
       "-42"
      ]
     },
     "execution_count": 4,
     "metadata": {},
     "output_type": "execute_result"
    }
   ],
   "source": [
    "random.randrange(-90,90,2)"
   ]
  },
  {
   "cell_type": "code",
   "execution_count": 5,
   "id": "97bae34b",
   "metadata": {},
   "outputs": [
    {
     "data": {
      "text/plain": [
       "-87.97018258506586"
      ]
     },
     "execution_count": 5,
     "metadata": {},
     "output_type": "execute_result"
    }
   ],
   "source": [
    "random.uniform(-90,90)"
   ]
  },
  {
   "cell_type": "code",
   "execution_count": 6,
   "id": "f6a4aec8",
   "metadata": {},
   "outputs": [],
   "source": [
    "x = 1\n",
    "latitudes = []\n",
    "while x < 11:\n",
    "    random_lat = random.randint(-90, 89) + random.random()\n",
    "    latitudes.append(random_lat)\n",
    "    x += 1"
   ]
  },
  {
   "cell_type": "code",
   "execution_count": 7,
   "id": "5ee1e3a2",
   "metadata": {},
   "outputs": [
    {
     "name": "stdout",
     "output_type": "stream",
     "text": [
      "[-32.1825596181585, -47.01796675862061, -21.3107489082279, 34.698602483066935, 9.808916245372135, -64.39113399342881, 54.1339291115785, 10.022728975936152, -28.795765693842412, -25.51036119433279]\n"
     ]
    }
   ],
   "source": [
    "print(latitudes)"
   ]
  },
  {
   "cell_type": "code",
   "execution_count": 8,
   "id": "cf81bae3",
   "metadata": {},
   "outputs": [],
   "source": [
    "x = 1\n",
    "longitudes = []\n",
    "while x <= 10:\n",
    "    random_lat = random.uniform(-180,180)\n",
    "    longitudes.append(random_lat)\n",
    "    x += 1"
   ]
  },
  {
   "cell_type": "code",
   "execution_count": 9,
   "id": "fb908f87",
   "metadata": {},
   "outputs": [
    {
     "name": "stdout",
     "output_type": "stream",
     "text": [
      "[-32.1825596181585, -47.01796675862061, -21.3107489082279, 34.698602483066935, 9.808916245372135, -64.39113399342881, 54.1339291115785, 10.022728975936152, -28.795765693842412, -25.51036119433279]\n"
     ]
    }
   ],
   "source": [
    "print(latitudes)"
   ]
  },
  {
   "cell_type": "code",
   "execution_count": 10,
   "id": "31f17785",
   "metadata": {},
   "outputs": [],
   "source": [
    "# Import the NumPy module.\n",
    "import numpy as np"
   ]
  },
  {
   "cell_type": "code",
   "execution_count": 12,
   "id": "565e5be5",
   "metadata": {},
   "outputs": [
    {
     "data": {
      "text/plain": [
       "array([ 21.9740389 ,  10.71076758, -47.56136883,  76.21939165,\n",
       "        84.61481   ,  41.80680082, -49.47364936, -61.35787014,\n",
       "        51.27680804, -72.23048216, -27.43162056, -39.1147398 ,\n",
       "       -74.99736201, -11.24212226, -71.20810657,  54.00476395,\n",
       "         2.0730447 ,  84.63798225,  45.972226  ,   8.83545453,\n",
       "        71.79828602,  23.64074839,  30.26729731, -81.88777242,\n",
       "       -58.8661027 ,  28.71578827,  73.62910157, -80.42941234,\n",
       "        58.82927845,  43.77120771,  88.15234529,   0.90476035,\n",
       "       -18.83534141,  18.22642335, -37.8301423 ,  43.35328553,\n",
       "        62.71140989, -60.93346795, -58.01815222, -80.4003525 ,\n",
       "       -45.70034323,  58.10966083, -71.78491859, -12.59910906,\n",
       "        76.42671994, -25.93964729, -28.4905801 ,  73.91606888,\n",
       "        60.31013479, -13.75492435])"
      ]
     },
     "execution_count": 12,
     "metadata": {},
     "output_type": "execute_result"
    }
   ],
   "source": [
    "np.random.uniform(-90.000, 90.000, size=50)"
   ]
  },
  {
   "cell_type": "code",
   "execution_count": null,
   "id": "fd3f8944",
   "metadata": {},
   "outputs": [],
   "source": []
  }
 ],
 "metadata": {
  "kernelspec": {
   "display_name": "Python 3 (ipykernel)",
   "language": "python",
   "name": "python3"
  },
  "language_info": {
   "codemirror_mode": {
    "name": "ipython",
    "version": 3
   },
   "file_extension": ".py",
   "mimetype": "text/x-python",
   "name": "python",
   "nbconvert_exporter": "python",
   "pygments_lexer": "ipython3",
   "version": "3.9.12"
  }
 },
 "nbformat": 4,
 "nbformat_minor": 5
}
